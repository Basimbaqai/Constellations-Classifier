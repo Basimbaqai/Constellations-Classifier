{
 "cells": [
  {
   "cell_type": "code",
   "id": "initial_id",
   "metadata": {
    "collapsed": true,
    "ExecuteTime": {
     "end_time": "2025-01-11T11:57:24.285843Z",
     "start_time": "2025-01-11T11:57:20.120444Z"
    }
   },
   "source": [
    "import os\n",
    "from tensorflow.keras.preprocessing.image import ImageDataGenerator, load_img, img_to_array\n",
    "from tensorflow.data import Dataset\n",
    "\n",
    "# Paths\n",
    "IMAGE_DIR = \"C:/Users/COMPUTER POINT/Downloads/Constellation Datasest/labels\"\n",
    "LABELS_FILE = \"C:/Users/COMPUTER POINT/Downloads/Constellation Datasest/constellation names.txt\"\n",
    "OUTPUT_DIR = 'augmented_dataset/'\n",
    "NUM_AUGMENTED = 50\n",
    "IMAGE_SIZE = (256, 256)\n",
    "BATCH_SIZE = 32\n",
    "\n"
   ],
   "outputs": [],
   "execution_count": 1
  },
  {
   "metadata": {},
   "cell_type": "markdown",
   "source": "## Creating and proper formatting the dataset",
   "id": "d969bf9dff890fcd"
  },
  {
   "metadata": {
    "ExecuteTime": {
     "end_time": "2025-01-11T11:59:45.496611Z",
     "start_time": "2025-01-11T11:59:45.492443Z"
    }
   },
   "cell_type": "code",
   "source": [
    "\n",
    "\n",
    "def parse_labels(labels_file):\n",
    "    label_map = {}\n",
    "    with open(labels_file, 'r') as file:\n",
    "        for line in file:\n",
    "\n",
    "            parts = line.strip().split(' ', 1)\n",
    "            if len(parts) == 2:\n",
    "                number, label = parts\n",
    "                label_map[int(number)] = label\n",
    "            else:\n",
    "                print(f\"Skipping invalid line: {line}\")\n",
    "    return label_map"
   ],
   "id": "a87e280823b74720",
   "outputs": [],
   "execution_count": 7
  },
  {
   "metadata": {
    "ExecuteTime": {
     "end_time": "2025-01-11T12:03:34.153532Z",
     "start_time": "2025-01-11T12:03:34.135503Z"
    }
   },
   "cell_type": "code",
   "source": [
    "label_map = parse_labels(LABELS_FILE)\n",
    "import pandas as pd\n",
    "\n",
    "output_file = \"label_map.txt\"\n",
    "\n",
    "# Save the label map to the file\n",
    "with open(output_file, \"w\") as file:\n",
    "    for index, label in label_map.items():\n",
    "        file.write(f\"{index}: {label}\\n\")\n",
    "\n",
    "print(f\"Label map saved to {output_file}\")\n"
   ],
   "id": "70ee625525b3e151",
   "outputs": [
    {
     "name": "stdout",
     "output_type": "stream",
     "text": [
      "Skipping invalid line: \n",
      "\n",
      "Skipping invalid line: \n",
      "\n",
      "Label map saved to label_map.txt\n"
     ]
    }
   ],
   "execution_count": 16
  },
  {
   "metadata": {
    "ExecuteTime": {
     "end_time": "2025-01-08T13:45:06.437481Z",
     "start_time": "2025-01-08T13:45:06.421464Z"
    }
   },
   "cell_type": "code",
   "source": [
    "\n",
    "def augment_dataset(image_dir, labels, output_dir, num_augmented):\n",
    "    os.makedirs(output_dir, exist_ok=True)\n",
    "    datagen = ImageDataGenerator(\n",
    "\n",
    "        rotation_range=360,\n",
    "\n",
    "    )\n",
    "\n",
    "    for img_name in os.listdir(image_dir):\n",
    "        img_path = os.path.join(image_dir, img_name)\n",
    "        img = load_img(img_path)\n",
    "        x = img_to_array(img)\n",
    "        x = x.reshape((1,) + x.shape)\n",
    "\n",
    "        label = labels[int(os.path.splitext(img_name)[0])]\n",
    "        label_dir = os.path.join(output_dir, label)\n",
    "        os.makedirs(label_dir, exist_ok=True)\n",
    "\n",
    "        i = 0\n",
    "        for batch in datagen.flow(x, batch_size=1, save_to_dir=label_dir, save_prefix='aug', save_format='png'):\n",
    "            i += 1\n",
    "            if i >= num_augmented:\n",
    "                break\n",
    "\n",
    "\n"
   ],
   "id": "73bf80378ae2ccc4",
   "outputs": [],
   "execution_count": 9
  },
  {
   "metadata": {
    "ExecuteTime": {
     "end_time": "2025-01-11T11:58:15.065638Z",
     "start_time": "2025-01-11T11:58:15.060636Z"
    }
   },
   "cell_type": "code",
   "source": [
    "\n",
    "\n",
    "def load_dataset(data_dir, image_size, batch_size):\n",
    "    datagen = ImageDataGenerator(\n",
    "        rescale=1.0 / 255,\n",
    "        validation_split=0.2\n",
    "    )\n",
    "\n",
    "    train_generator = datagen.flow_from_directory(\n",
    "        data_dir,\n",
    "        target_size=image_size,\n",
    "        batch_size=batch_size,\n",
    "        class_mode='categorical',\n",
    "        subset='training'\n",
    "    )\n",
    "\n",
    "    val_generator = datagen.flow_from_directory(\n",
    "        data_dir,\n",
    "        target_size=image_size,\n",
    "        batch_size=batch_size,\n",
    "        class_mode='categorical',\n",
    "        subset='validation'\n",
    "    )\n",
    "\n",
    "    return train_generator, val_generator\n"
   ],
   "id": "498aca70fac2a795",
   "outputs": [],
   "execution_count": 4
  },
  {
   "metadata": {
    "ExecuteTime": {
     "end_time": "2025-01-11T11:59:07.123381Z",
     "start_time": "2025-01-11T11:59:07.095551Z"
    }
   },
   "cell_type": "code",
   "source": "train_generator , val_generator = load_dataset(IMAGE_DIR, IMAGE_SIZE, BATCH_SIZE)",
   "id": "6ab4d7d5d7faab9b",
   "outputs": [
    {
     "name": "stdout",
     "output_type": "stream",
     "text": [
      "Found 0 images belonging to 0 classes.\n",
      "Found 0 images belonging to 0 classes.\n"
     ]
    },
    {
     "data": {
      "text/plain": [
       "{}"
      ]
     },
     "execution_count": 6,
     "metadata": {},
     "output_type": "execute_result"
    }
   ],
   "execution_count": 6
  },
  {
   "metadata": {
    "ExecuteTime": {
     "end_time": "2025-01-08T13:46:37.481248Z",
     "start_time": "2025-01-08T13:45:12.247512Z"
    }
   },
   "cell_type": "code",
   "source": [
    "\n",
    "\n",
    "def create_and_load_dataset():\n",
    "    label_map = parse_labels(LABELS_FILE)\n",
    "\n",
    "    augment_dataset(IMAGE_DIR, label_map, OUTPUT_DIR, NUM_AUGMENTED)\n",
    "\n",
    "    train_data, val_data = load_dataset(OUTPUT_DIR, IMAGE_SIZE, BATCH_SIZE)\n",
    "\n",
    "    return train_data, val_data\n",
    "\n",
    "\n",
    "if __name__ == \"__main__\":\n",
    "    train_generator, val_generator = create_and_load_dataset()\n",
    "\n",
    "    print(\"Class Indices:\", train_generator.class_indices)\n"
   ],
   "id": "63333300763ef3de",
   "outputs": [
    {
     "name": "stdout",
     "output_type": "stream",
     "text": [
      "Skipping invalid line: \n",
      "\n",
      "Skipping invalid line: \n",
      "\n"
     ]
    },
    {
     "ename": "KeyboardInterrupt",
     "evalue": "",
     "output_type": "error",
     "traceback": [
      "\u001B[1;31m---------------------------------------------------------------------------\u001B[0m",
      "\u001B[1;31mAttributeError\u001B[0m                            Traceback (most recent call last)",
      "File \u001B[1;32m~\\anaconda3\\envs\\MLEnv\\lib\\site-packages\\PIL\\ImageFile.py:554\u001B[0m, in \u001B[0;36m_save\u001B[1;34m(im, fp, tile, bufsize)\u001B[0m\n\u001B[0;32m    553\u001B[0m \u001B[38;5;28;01mtry\u001B[39;00m:\n\u001B[1;32m--> 554\u001B[0m     fh \u001B[38;5;241m=\u001B[39m \u001B[43mfp\u001B[49m\u001B[38;5;241;43m.\u001B[39;49m\u001B[43mfileno\u001B[49m()\n\u001B[0;32m    555\u001B[0m     fp\u001B[38;5;241m.\u001B[39mflush()\n",
      "\u001B[1;31mAttributeError\u001B[0m: '_idat' object has no attribute 'fileno'",
      "\nDuring handling of the above exception, another exception occurred:\n",
      "\u001B[1;31mKeyboardInterrupt\u001B[0m                         Traceback (most recent call last)",
      "Cell \u001B[1;32mIn[11], line 16\u001B[0m\n\u001B[0;32m     14\u001B[0m \u001B[38;5;66;03m# Run the Script\u001B[39;00m\n\u001B[0;32m     15\u001B[0m \u001B[38;5;28;01mif\u001B[39;00m \u001B[38;5;18m__name__\u001B[39m \u001B[38;5;241m==\u001B[39m \u001B[38;5;124m\"\u001B[39m\u001B[38;5;124m__main__\u001B[39m\u001B[38;5;124m\"\u001B[39m:\n\u001B[1;32m---> 16\u001B[0m     train_generator, val_generator \u001B[38;5;241m=\u001B[39m \u001B[43mcreate_and_load_dataset\u001B[49m\u001B[43m(\u001B[49m\u001B[43m)\u001B[49m\n\u001B[0;32m     18\u001B[0m     \u001B[38;5;66;03m# Print class indices for verification\u001B[39;00m\n\u001B[0;32m     19\u001B[0m     \u001B[38;5;28mprint\u001B[39m(\u001B[38;5;124m\"\u001B[39m\u001B[38;5;124mClass Indices:\u001B[39m\u001B[38;5;124m\"\u001B[39m, train_generator\u001B[38;5;241m.\u001B[39mclass_indices)\n",
      "Cell \u001B[1;32mIn[11], line 6\u001B[0m, in \u001B[0;36mcreate_and_load_dataset\u001B[1;34m()\u001B[0m\n\u001B[0;32m      2\u001B[0m \u001B[38;5;28;01mdef\u001B[39;00m \u001B[38;5;21mcreate_and_load_dataset\u001B[39m():\n\u001B[0;32m      3\u001B[0m     \u001B[38;5;66;03m# Parse labels\u001B[39;00m\n\u001B[0;32m      4\u001B[0m     label_map \u001B[38;5;241m=\u001B[39m parse_labels(LABELS_FILE)\n\u001B[1;32m----> 6\u001B[0m     \u001B[43maugment_dataset\u001B[49m\u001B[43m(\u001B[49m\u001B[43mIMAGE_DIR\u001B[49m\u001B[43m,\u001B[49m\u001B[43m \u001B[49m\u001B[43mlabel_map\u001B[49m\u001B[43m,\u001B[49m\u001B[43m \u001B[49m\u001B[43mOUTPUT_DIR\u001B[49m\u001B[43m,\u001B[49m\u001B[43m \u001B[49m\u001B[43mNUM_AUGMENTED\u001B[49m\u001B[43m)\u001B[49m\n\u001B[0;32m      8\u001B[0m     \u001B[38;5;66;03m# Load dataset dynamically\u001B[39;00m\n\u001B[0;32m      9\u001B[0m     train_data, val_data \u001B[38;5;241m=\u001B[39m load_dataset(OUTPUT_DIR, IMAGE_SIZE, BATCH_SIZE)\n",
      "Cell \u001B[1;32mIn[9], line 24\u001B[0m, in \u001B[0;36maugment_dataset\u001B[1;34m(image_dir, labels, output_dir, num_augmented)\u001B[0m\n\u001B[0;32m     22\u001B[0m \u001B[38;5;66;03m# Generate augmented images\u001B[39;00m\n\u001B[0;32m     23\u001B[0m i \u001B[38;5;241m=\u001B[39m \u001B[38;5;241m0\u001B[39m\n\u001B[1;32m---> 24\u001B[0m \u001B[38;5;28;01mfor\u001B[39;00m batch \u001B[38;5;129;01min\u001B[39;00m datagen\u001B[38;5;241m.\u001B[39mflow(x, batch_size\u001B[38;5;241m=\u001B[39m\u001B[38;5;241m1\u001B[39m, save_to_dir\u001B[38;5;241m=\u001B[39mlabel_dir, save_prefix\u001B[38;5;241m=\u001B[39m\u001B[38;5;124m'\u001B[39m\u001B[38;5;124maug\u001B[39m\u001B[38;5;124m'\u001B[39m, save_format\u001B[38;5;241m=\u001B[39m\u001B[38;5;124m'\u001B[39m\u001B[38;5;124mpng\u001B[39m\u001B[38;5;124m'\u001B[39m):\n\u001B[0;32m     25\u001B[0m     i \u001B[38;5;241m+\u001B[39m\u001B[38;5;241m=\u001B[39m \u001B[38;5;241m1\u001B[39m\n\u001B[0;32m     26\u001B[0m     \u001B[38;5;28;01mif\u001B[39;00m i \u001B[38;5;241m>\u001B[39m\u001B[38;5;241m=\u001B[39m num_augmented:\n",
      "File \u001B[1;32m~\\anaconda3\\envs\\MLEnv\\lib\\site-packages\\keras\\preprocessing\\image.py:156\u001B[0m, in \u001B[0;36mIterator.__next__\u001B[1;34m(self, *args, **kwargs)\u001B[0m\n\u001B[0;32m    155\u001B[0m \u001B[38;5;28;01mdef\u001B[39;00m \u001B[38;5;21m__next__\u001B[39m(\u001B[38;5;28mself\u001B[39m, \u001B[38;5;241m*\u001B[39margs, \u001B[38;5;241m*\u001B[39m\u001B[38;5;241m*\u001B[39mkwargs):\n\u001B[1;32m--> 156\u001B[0m     \u001B[38;5;28;01mreturn\u001B[39;00m \u001B[38;5;28mself\u001B[39m\u001B[38;5;241m.\u001B[39mnext(\u001B[38;5;241m*\u001B[39margs, \u001B[38;5;241m*\u001B[39m\u001B[38;5;241m*\u001B[39mkwargs)\n",
      "File \u001B[1;32m~\\anaconda3\\envs\\MLEnv\\lib\\site-packages\\keras\\preprocessing\\image.py:168\u001B[0m, in \u001B[0;36mIterator.next\u001B[1;34m(self)\u001B[0m\n\u001B[0;32m    165\u001B[0m     index_array \u001B[38;5;241m=\u001B[39m \u001B[38;5;28mnext\u001B[39m(\u001B[38;5;28mself\u001B[39m\u001B[38;5;241m.\u001B[39mindex_generator)\n\u001B[0;32m    166\u001B[0m \u001B[38;5;66;03m# The transformation of images is not under thread lock\u001B[39;00m\n\u001B[0;32m    167\u001B[0m \u001B[38;5;66;03m# so it can be done in parallel\u001B[39;00m\n\u001B[1;32m--> 168\u001B[0m \u001B[38;5;28;01mreturn\u001B[39;00m \u001B[38;5;28;43mself\u001B[39;49m\u001B[38;5;241;43m.\u001B[39;49m\u001B[43m_get_batches_of_transformed_samples\u001B[49m\u001B[43m(\u001B[49m\u001B[43mindex_array\u001B[49m\u001B[43m)\u001B[49m\n",
      "File \u001B[1;32m~\\anaconda3\\envs\\MLEnv\\lib\\site-packages\\keras\\preprocessing\\image.py:818\u001B[0m, in \u001B[0;36mNumpyArrayIterator._get_batches_of_transformed_samples\u001B[1;34m(self, index_array)\u001B[0m\n\u001B[0;32m    809\u001B[0m         img \u001B[38;5;241m=\u001B[39m image_utils\u001B[38;5;241m.\u001B[39marray_to_img(\n\u001B[0;32m    810\u001B[0m             batch_x[i], \u001B[38;5;28mself\u001B[39m\u001B[38;5;241m.\u001B[39mdata_format, scale\u001B[38;5;241m=\u001B[39m\u001B[38;5;28;01mTrue\u001B[39;00m\n\u001B[0;32m    811\u001B[0m         )\n\u001B[0;32m    812\u001B[0m         fname \u001B[38;5;241m=\u001B[39m \u001B[38;5;124m\"\u001B[39m\u001B[38;5;132;01m{prefix}\u001B[39;00m\u001B[38;5;124m_\u001B[39m\u001B[38;5;132;01m{index}\u001B[39;00m\u001B[38;5;124m_\u001B[39m\u001B[38;5;132;01m{hash}\u001B[39;00m\u001B[38;5;124m.\u001B[39m\u001B[38;5;132;01m{format}\u001B[39;00m\u001B[38;5;124m\"\u001B[39m\u001B[38;5;241m.\u001B[39mformat(\n\u001B[0;32m    813\u001B[0m             prefix\u001B[38;5;241m=\u001B[39m\u001B[38;5;28mself\u001B[39m\u001B[38;5;241m.\u001B[39msave_prefix,\n\u001B[0;32m    814\u001B[0m             index\u001B[38;5;241m=\u001B[39mj,\n\u001B[0;32m    815\u001B[0m             \u001B[38;5;28mhash\u001B[39m\u001B[38;5;241m=\u001B[39mnp\u001B[38;5;241m.\u001B[39mrandom\u001B[38;5;241m.\u001B[39mrandint(\u001B[38;5;241m1e4\u001B[39m),\n\u001B[0;32m    816\u001B[0m             \u001B[38;5;28mformat\u001B[39m\u001B[38;5;241m=\u001B[39m\u001B[38;5;28mself\u001B[39m\u001B[38;5;241m.\u001B[39msave_format,\n\u001B[0;32m    817\u001B[0m         )\n\u001B[1;32m--> 818\u001B[0m         \u001B[43mimg\u001B[49m\u001B[38;5;241;43m.\u001B[39;49m\u001B[43msave\u001B[49m\u001B[43m(\u001B[49m\u001B[43mos\u001B[49m\u001B[38;5;241;43m.\u001B[39;49m\u001B[43mpath\u001B[49m\u001B[38;5;241;43m.\u001B[39;49m\u001B[43mjoin\u001B[49m\u001B[43m(\u001B[49m\u001B[38;5;28;43mself\u001B[39;49m\u001B[38;5;241;43m.\u001B[39;49m\u001B[43msave_to_dir\u001B[49m\u001B[43m,\u001B[49m\u001B[43m \u001B[49m\u001B[43mfname\u001B[49m\u001B[43m)\u001B[49m\u001B[43m)\u001B[49m\n\u001B[0;32m    819\u001B[0m batch_x_miscs \u001B[38;5;241m=\u001B[39m [xx[index_array] \u001B[38;5;28;01mfor\u001B[39;00m xx \u001B[38;5;129;01min\u001B[39;00m \u001B[38;5;28mself\u001B[39m\u001B[38;5;241m.\u001B[39mx_misc]\n\u001B[0;32m    820\u001B[0m output \u001B[38;5;241m=\u001B[39m (batch_x \u001B[38;5;28;01mif\u001B[39;00m \u001B[38;5;129;01mnot\u001B[39;00m batch_x_miscs \u001B[38;5;28;01melse\u001B[39;00m [batch_x] \u001B[38;5;241m+\u001B[39m batch_x_miscs,)\n",
      "File \u001B[1;32m~\\anaconda3\\envs\\MLEnv\\lib\\site-packages\\PIL\\Image.py:2605\u001B[0m, in \u001B[0;36mImage.save\u001B[1;34m(self, fp, format, **params)\u001B[0m\n\u001B[0;32m   2602\u001B[0m     fp \u001B[38;5;241m=\u001B[39m cast(IO[\u001B[38;5;28mbytes\u001B[39m], fp)\n\u001B[0;32m   2604\u001B[0m \u001B[38;5;28;01mtry\u001B[39;00m:\n\u001B[1;32m-> 2605\u001B[0m     \u001B[43msave_handler\u001B[49m\u001B[43m(\u001B[49m\u001B[38;5;28;43mself\u001B[39;49m\u001B[43m,\u001B[49m\u001B[43m \u001B[49m\u001B[43mfp\u001B[49m\u001B[43m,\u001B[49m\u001B[43m \u001B[49m\u001B[43mfilename\u001B[49m\u001B[43m)\u001B[49m\n\u001B[0;32m   2606\u001B[0m \u001B[38;5;28;01mexcept\u001B[39;00m \u001B[38;5;167;01mException\u001B[39;00m:\n\u001B[0;32m   2607\u001B[0m     \u001B[38;5;28;01mif\u001B[39;00m open_fp:\n",
      "File \u001B[1;32m~\\anaconda3\\envs\\MLEnv\\lib\\site-packages\\PIL\\PngImagePlugin.py:1488\u001B[0m, in \u001B[0;36m_save\u001B[1;34m(im, fp, filename, chunk, save_all)\u001B[0m\n\u001B[0;32m   1484\u001B[0m     single_im \u001B[38;5;241m=\u001B[39m _write_multiple_frames(\n\u001B[0;32m   1485\u001B[0m         im, fp, chunk, mode, rawmode, default_image, append_images\n\u001B[0;32m   1486\u001B[0m     )\n\u001B[0;32m   1487\u001B[0m \u001B[38;5;28;01mif\u001B[39;00m single_im:\n\u001B[1;32m-> 1488\u001B[0m     \u001B[43mImageFile\u001B[49m\u001B[38;5;241;43m.\u001B[39;49m\u001B[43m_save\u001B[49m\u001B[43m(\u001B[49m\n\u001B[0;32m   1489\u001B[0m \u001B[43m        \u001B[49m\u001B[43msingle_im\u001B[49m\u001B[43m,\u001B[49m\n\u001B[0;32m   1490\u001B[0m \u001B[43m        \u001B[49m\u001B[43mcast\u001B[49m\u001B[43m(\u001B[49m\u001B[43mIO\u001B[49m\u001B[43m[\u001B[49m\u001B[38;5;28;43mbytes\u001B[39;49m\u001B[43m]\u001B[49m\u001B[43m,\u001B[49m\u001B[43m \u001B[49m\u001B[43m_idat\u001B[49m\u001B[43m(\u001B[49m\u001B[43mfp\u001B[49m\u001B[43m,\u001B[49m\u001B[43m \u001B[49m\u001B[43mchunk\u001B[49m\u001B[43m)\u001B[49m\u001B[43m)\u001B[49m\u001B[43m,\u001B[49m\n\u001B[0;32m   1491\u001B[0m \u001B[43m        \u001B[49m\u001B[43m[\u001B[49m\u001B[43mImageFile\u001B[49m\u001B[38;5;241;43m.\u001B[39;49m\u001B[43m_Tile\u001B[49m\u001B[43m(\u001B[49m\u001B[38;5;124;43m\"\u001B[39;49m\u001B[38;5;124;43mzip\u001B[39;49m\u001B[38;5;124;43m\"\u001B[39;49m\u001B[43m,\u001B[49m\u001B[43m \u001B[49m\u001B[43m(\u001B[49m\u001B[38;5;241;43m0\u001B[39;49m\u001B[43m,\u001B[49m\u001B[43m \u001B[49m\u001B[38;5;241;43m0\u001B[39;49m\u001B[43m)\u001B[49m\u001B[43m \u001B[49m\u001B[38;5;241;43m+\u001B[39;49m\u001B[43m \u001B[49m\u001B[43msingle_im\u001B[49m\u001B[38;5;241;43m.\u001B[39;49m\u001B[43msize\u001B[49m\u001B[43m,\u001B[49m\u001B[43m \u001B[49m\u001B[38;5;241;43m0\u001B[39;49m\u001B[43m,\u001B[49m\u001B[43m \u001B[49m\u001B[43mrawmode\u001B[49m\u001B[43m)\u001B[49m\u001B[43m]\u001B[49m\u001B[43m,\u001B[49m\n\u001B[0;32m   1492\u001B[0m \u001B[43m    \u001B[49m\u001B[43m)\u001B[49m\n\u001B[0;32m   1494\u001B[0m \u001B[38;5;28;01mif\u001B[39;00m info:\n\u001B[0;32m   1495\u001B[0m     \u001B[38;5;28;01mfor\u001B[39;00m info_chunk \u001B[38;5;129;01min\u001B[39;00m info\u001B[38;5;241m.\u001B[39mchunks:\n",
      "File \u001B[1;32m~\\anaconda3\\envs\\MLEnv\\lib\\site-packages\\PIL\\ImageFile.py:558\u001B[0m, in \u001B[0;36m_save\u001B[1;34m(im, fp, tile, bufsize)\u001B[0m\n\u001B[0;32m    556\u001B[0m     _encode_tile(im, fp, tile, bufsize, fh)\n\u001B[0;32m    557\u001B[0m \u001B[38;5;28;01mexcept\u001B[39;00m (\u001B[38;5;167;01mAttributeError\u001B[39;00m, io\u001B[38;5;241m.\u001B[39mUnsupportedOperation) \u001B[38;5;28;01mas\u001B[39;00m exc:\n\u001B[1;32m--> 558\u001B[0m     \u001B[43m_encode_tile\u001B[49m\u001B[43m(\u001B[49m\u001B[43mim\u001B[49m\u001B[43m,\u001B[49m\u001B[43m \u001B[49m\u001B[43mfp\u001B[49m\u001B[43m,\u001B[49m\u001B[43m \u001B[49m\u001B[43mtile\u001B[49m\u001B[43m,\u001B[49m\u001B[43m \u001B[49m\u001B[43mbufsize\u001B[49m\u001B[43m,\u001B[49m\u001B[43m \u001B[49m\u001B[38;5;28;43;01mNone\u001B[39;49;00m\u001B[43m,\u001B[49m\u001B[43m \u001B[49m\u001B[43mexc\u001B[49m\u001B[43m)\u001B[49m\n\u001B[0;32m    559\u001B[0m \u001B[38;5;28;01mif\u001B[39;00m \u001B[38;5;28mhasattr\u001B[39m(fp, \u001B[38;5;124m\"\u001B[39m\u001B[38;5;124mflush\u001B[39m\u001B[38;5;124m\"\u001B[39m):\n\u001B[0;32m    560\u001B[0m     fp\u001B[38;5;241m.\u001B[39mflush()\n",
      "File \u001B[1;32m~\\anaconda3\\envs\\MLEnv\\lib\\site-packages\\PIL\\ImageFile.py:584\u001B[0m, in \u001B[0;36m_encode_tile\u001B[1;34m(im, fp, tile, bufsize, fh, exc)\u001B[0m\n\u001B[0;32m    581\u001B[0m \u001B[38;5;28;01mif\u001B[39;00m exc:\n\u001B[0;32m    582\u001B[0m     \u001B[38;5;66;03m# compress to Python file-compatible object\u001B[39;00m\n\u001B[0;32m    583\u001B[0m     \u001B[38;5;28;01mwhile\u001B[39;00m \u001B[38;5;28;01mTrue\u001B[39;00m:\n\u001B[1;32m--> 584\u001B[0m         errcode, data \u001B[38;5;241m=\u001B[39m \u001B[43mencoder\u001B[49m\u001B[38;5;241;43m.\u001B[39;49m\u001B[43mencode\u001B[49m\u001B[43m(\u001B[49m\u001B[43mbufsize\u001B[49m\u001B[43m)\u001B[49m[\u001B[38;5;241m1\u001B[39m:]\n\u001B[0;32m    585\u001B[0m         fp\u001B[38;5;241m.\u001B[39mwrite(data)\n\u001B[0;32m    586\u001B[0m         \u001B[38;5;28;01mif\u001B[39;00m errcode:\n",
      "\u001B[1;31mKeyboardInterrupt\u001B[0m: "
     ]
    }
   ],
   "execution_count": 11
  },
  {
   "metadata": {},
   "cell_type": "markdown",
   "source": "## Model",
   "id": "82b5ee1e6b0c2e35"
  },
  {
   "metadata": {
    "ExecuteTime": {
     "end_time": "2025-01-08T12:16:10.102693Z",
     "start_time": "2025-01-08T12:16:10.086678Z"
    }
   },
   "cell_type": "code",
   "source": [
    "from tensorflow.keras.models import Sequential\n",
    "from tensorflow.keras.layers import Conv2D, MaxPooling2D, Flatten, Dense, Dropout\n",
    "from tensorflow.keras.optimizers import Adam\n",
    "\n",
    "input_shape = (256, 256, 3)\n",
    "\n",
    "\n",
    "def create_cnn(input_shape, num_classes):\n",
    "    model = Sequential([\n",
    "        Conv2D(32, (3, 3), activation='relu', input_shape=input_shape),\n",
    "        MaxPooling2D((2, 2)),\n",
    "        Conv2D(64, (3, 3), activation='relu'),\n",
    "        MaxPooling2D((2, 2)),\n",
    "        Conv2D(128, (3, 3), activation='relu'),\n",
    "        MaxPooling2D((2, 2)),\n",
    "        Conv2D(256, (3, 3), activation='relu'),\n",
    "        MaxPooling2D((2, 2)),\n",
    "        Flatten(),\n",
    "        Dense(256, activation='relu'),\n",
    "        Dropout(0.5),\n",
    "        Dense(num_classes, activation='softmax')\n",
    "    ])\n",
    "    return model\n",
    "\n"
   ],
   "id": "eb3a60def4177736",
   "outputs": [],
   "execution_count": 17
  },
  {
   "metadata": {
    "ExecuteTime": {
     "end_time": "2025-01-08T12:45:03.357164Z",
     "start_time": "2025-01-08T12:16:18.274582Z"
    }
   },
   "cell_type": "code",
   "source": [
    "model = create_cnn(input_shape, 86)\n",
    "\n",
    "model.compile(\n",
    "    optimizer=Adam(learning_rate=0.001),\n",
    "    loss='categorical_crossentropy',\n",
    "    metrics=['accuracy']\n",
    ")\n",
    "\n",
    "history = model.fit(\n",
    "    train_generator,\n",
    "    validation_data=val_generator,\n",
    "    epochs=20,\n",
    "    steps_per_epoch=len(train_generator),\n",
    "    validation_steps=len(val_generator)\n",
    ")\n"
   ],
   "id": "85fd9feab3eea35f",
   "outputs": [
    {
     "name": "stdout",
     "output_type": "stream",
     "text": [
      "Epoch 1/20\n",
      "108/108 [==============================] - 126s 826ms/step - loss: 4.2631 - accuracy: 0.0285 - val_loss: 3.9449 - val_accuracy: 0.0530\n",
      "Epoch 2/20\n",
      "108/108 [==============================] - 83s 767ms/step - loss: 3.8674 - accuracy: 0.0622 - val_loss: 3.4985 - val_accuracy: 0.1225\n",
      "Epoch 3/20\n",
      "108/108 [==============================] - 82s 763ms/step - loss: 3.4007 - accuracy: 0.1381 - val_loss: 2.8736 - val_accuracy: 0.2591\n",
      "Epoch 4/20\n",
      "108/108 [==============================] - 82s 758ms/step - loss: 2.9322 - accuracy: 0.2250 - val_loss: 2.5448 - val_accuracy: 0.3239\n",
      "Epoch 5/20\n",
      "108/108 [==============================] - 96s 884ms/step - loss: 2.5898 - accuracy: 0.2971 - val_loss: 2.2734 - val_accuracy: 0.4099\n",
      "Epoch 6/20\n",
      "108/108 [==============================] - 99s 920ms/step - loss: 2.2630 - accuracy: 0.3738 - val_loss: 2.0542 - val_accuracy: 0.4452\n",
      "Epoch 7/20\n",
      "108/108 [==============================] - 82s 761ms/step - loss: 1.9562 - accuracy: 0.4544 - val_loss: 1.8076 - val_accuracy: 0.5147\n",
      "Epoch 8/20\n",
      "108/108 [==============================] - 87s 807ms/step - loss: 1.7146 - accuracy: 0.5055 - val_loss: 1.7831 - val_accuracy: 0.5265\n",
      "Epoch 9/20\n",
      "108/108 [==============================] - 87s 802ms/step - loss: 1.4793 - accuracy: 0.5680 - val_loss: 1.6872 - val_accuracy: 0.5265\n",
      "Epoch 10/20\n",
      "108/108 [==============================] - 84s 781ms/step - loss: 1.2428 - accuracy: 0.6244 - val_loss: 1.4494 - val_accuracy: 0.5783\n",
      "Epoch 11/20\n",
      "108/108 [==============================] - 84s 774ms/step - loss: 1.0905 - accuracy: 0.6712 - val_loss: 1.4219 - val_accuracy: 0.6007\n",
      "Epoch 12/20\n",
      "108/108 [==============================] - 81s 752ms/step - loss: 0.8767 - accuracy: 0.7215 - val_loss: 1.4328 - val_accuracy: 0.5830\n",
      "Epoch 13/20\n",
      "108/108 [==============================] - 81s 753ms/step - loss: 0.8353 - accuracy: 0.7375 - val_loss: 1.3780 - val_accuracy: 0.6302\n",
      "Epoch 14/20\n",
      "108/108 [==============================] - 82s 753ms/step - loss: 0.6977 - accuracy: 0.7811 - val_loss: 1.7468 - val_accuracy: 0.5665\n",
      "Epoch 15/20\n",
      "108/108 [==============================] - 81s 751ms/step - loss: 0.6468 - accuracy: 0.8029 - val_loss: 1.3838 - val_accuracy: 0.6455\n",
      "Epoch 16/20\n",
      "108/108 [==============================] - 81s 751ms/step - loss: 0.4929 - accuracy: 0.8483 - val_loss: 1.3477 - val_accuracy: 0.6631\n",
      "Epoch 17/20\n",
      "108/108 [==============================] - 81s 749ms/step - loss: 0.4753 - accuracy: 0.8468 - val_loss: 1.3444 - val_accuracy: 0.6525\n",
      "Epoch 18/20\n",
      "108/108 [==============================] - 81s 748ms/step - loss: 0.3962 - accuracy: 0.8767 - val_loss: 1.3309 - val_accuracy: 0.6596\n",
      "Epoch 19/20\n",
      "108/108 [==============================] - 81s 752ms/step - loss: 0.3975 - accuracy: 0.8738 - val_loss: 1.4342 - val_accuracy: 0.6690\n",
      "Epoch 20/20\n",
      "108/108 [==============================] - 81s 751ms/step - loss: 0.3764 - accuracy: 0.8797 - val_loss: 1.3371 - val_accuracy: 0.6820\n"
     ]
    }
   ],
   "execution_count": 18
  },
  {
   "metadata": {},
   "cell_type": "markdown",
   "source": "## Plotting Results",
   "id": "9817aed68a9e493b"
  },
  {
   "metadata": {
    "ExecuteTime": {
     "end_time": "2025-01-08T12:46:04.291134Z",
     "start_time": "2025-01-08T12:46:03.974578Z"
    }
   },
   "cell_type": "code",
   "source": [
    "import matplotlib.pyplot as plt\n",
    "\n",
    "plt.plot(history.history['accuracy'], label='Training Accuracy')\n",
    "plt.plot(history.history['val_accuracy'], label='Validation Accuracy')\n",
    "plt.legend()\n",
    "plt.title('Accuracy over Epochs')\n",
    "plt.xlabel('Epochs')\n",
    "plt.ylabel('Accuracy')\n",
    "plt.show()\n",
    "\n",
    "plt.plot(history.history['loss'], label='Training Loss')\n",
    "plt.plot(history.history['val_loss'], label='Validation Loss')\n",
    "plt.legend()\n",
    "plt.title('Loss over Epochs')\n",
    "plt.xlabel('Epochs')\n",
    "plt.ylabel('Loss')\n",
    "plt.show()\n"
   ],
   "id": "7ba479df62ad7c6",
   "outputs": [
    {
     "data": {
      "text/plain": [
       "<Figure size 640x480 with 1 Axes>"
      ],
      "image/png": "[encoded data removed]"
     },
     "metadata": {},
     "output_type": "display_data"
    },
    {
     "data": {
      "text/plain": [
       "<Figure size 640x480 with 1 Axes>"
      ],
      "image/png": "[encoded data removed]"
     },
     "metadata": {},
     "output_type": "display_data"
    }
   ],
   "execution_count": 19
  },
  {
   "metadata": {
    "ExecuteTime": {
     "end_time": "2025-01-08T12:48:54.157348Z",
     "start_time": "2025-01-08T12:48:53.603797Z"
    }
   },
   "cell_type": "code",
   "source": "model.save('constellation_classifier.h5')",
   "id": "58a4ac07f088a245",
   "outputs": [],
   "execution_count": 20
  },
  {
   "metadata": {
    "ExecuteTime": {
     "end_time": "2025-01-11T12:05:30.796696Z",
     "start_time": "2025-01-11T12:05:28.422512Z"
    }
   },
   "cell_type": "code",
   "source": [
    "from tensorflow.keras.models import load_model\n",
    "\n",
    "model = load_model('constellation_classifier.h5')"
   ],
   "id": "38e3fe98966f65b6",
   "outputs": [],
   "execution_count": 18
  },
  {
   "metadata": {
    "ExecuteTime": {
     "end_time": "2025-01-11T12:10:23.703833Z",
     "start_time": "2025-01-11T12:10:23.683446Z"
    }
   },
   "cell_type": "code",
   "source": "label_map",
   "id": "93d6ad1bf52b6b71",
   "outputs": [
    {
     "data": {
      "text/plain": [
       "{1: 'vela',\n",
       " 2: 'musca',\n",
       " 3: 'Grus',\n",
       " 4: 'Canis minor',\n",
       " 5: 'cancer',\n",
       " 6: 'Leo',\n",
       " 7: 'Leo minor',\n",
       " 8: 'ursa minor',\n",
       " 9: 'lyra',\n",
       " 10: 'dorado',\n",
       " 11: 'Scorpius',\n",
       " 12: 'Cepheus',\n",
       " 13: 'Virgo',\n",
       " 14: 'Ursa major',\n",
       " 15: 'Perceus',\n",
       " 16: 'Canis major',\n",
       " 17: 'Lepus',\n",
       " 18: 'Columba',\n",
       " 19: 'Aquarius',\n",
       " 20: 'Capricornus',\n",
       " 21: 'Gemini',\n",
       " 22: 'Pictor',\n",
       " 23: 'Puppis',\n",
       " 24: 'Mensa',\n",
       " 25: 'Reticulum',\n",
       " 26: 'Volans',\n",
       " 27: 'Bootes',\n",
       " 28: 'Lacerta',\n",
       " 29: 'fornax',\n",
       " 30: 'Hydrus',\n",
       " 31: 'Octans',\n",
       " 32: 'Pavo',\n",
       " 33: 'lupus',\n",
       " 34: 'Orion',\n",
       " 35: 'Cetus',\n",
       " 36: 'sextan',\n",
       " 37: 'Aquila',\n",
       " 38: 'Microscopium',\n",
       " 39: 'Indus',\n",
       " 40: 'Ara',\n",
       " 41: 'Corona Australis',\n",
       " 42: 'Libra',\n",
       " 43: 'Sagittarius',\n",
       " 44: 'Aries',\n",
       " 45: 'Corona Borealis',\n",
       " 46: 'Sculptor',\n",
       " 47: 'Phoenix',\n",
       " 48: 'Horologium',\n",
       " 49: 'Caelum',\n",
       " 50: 'Tucana',\n",
       " 51: 'Chameleon',\n",
       " 52: 'Crux',\n",
       " 53: 'Monoceros',\n",
       " 54: 'Taurus',\n",
       " 55: 'Crater',\n",
       " 56: 'Corvus',\n",
       " 57: 'Circinus',\n",
       " 58: 'Triangulum',\n",
       " 59: 'Cassiopeia',\n",
       " 60: 'Cygnus',\n",
       " 61: 'Camelopardalis',\n",
       " 62: 'Coma Berenices',\n",
       " 63: 'Pisces Austrinus',\n",
       " 64: 'Hercules',\n",
       " 65: 'Norma',\n",
       " 66: 'Equuleus',\n",
       " 67: 'Delphinus',\n",
       " 68: 'Sagitta',\n",
       " 69: 'Vulpecula',\n",
       " 70: 'Serpens Caput',\n",
       " 71: 'Lynx',\n",
       " 72: 'Antila',\n",
       " 73: 'Pyxis',\n",
       " 74: 'Auriga',\n",
       " 75: 'Pisces',\n",
       " 76: 'Draco',\n",
       " 77: 'Scutum',\n",
       " 78: 'Andromeda',\n",
       " 79: 'Pegasus',\n",
       " 80: 'Carina',\n",
       " 81: 'Canis Venatici',\n",
       " 82: 'Serpens Cauda',\n",
       " 83: 'Apus',\n",
       " 84: 'Telescopium',\n",
       " 85: 'Triangulum Australe',\n",
       " 86: 'Centaurus'}"
      ]
     },
     "execution_count": 24,
     "metadata": {},
     "output_type": "execute_result"
    }
   ],
   "execution_count": 24
  },
  {
   "metadata": {
    "ExecuteTime": {
     "end_time": "2025-01-11T12:15:08.331072Z",
     "start_time": "2025-01-11T12:15:08.226068Z"
    }
   },
   "cell_type": "code",
   "source": [
    "import numpy as np\n",
    "def predict_image(model, image_path, label_map):\n",
    "    try:\n",
    "        # Load and preprocess the image\n",
    "        img = load_img(image_path, target_size=(256, 256))\n",
    "        img_array = img_to_array(img) / 255.0\n",
    "        img_array = np.expand_dims(img_array, axis=0)\n",
    "\n",
    "        # Make prediction\n",
    "        predictions = model.predict(img_array)\n",
    "        predicted_class = np.argmax(predictions)\n",
    "\n",
    "        # Debugging outputs\n",
    "        print(f\"Predicted class index: {predicted_class}\")\n",
    "\n",
    "\n",
    "        # Get the label from the label map\n",
    "        if predicted_class not in label_map:\n",
    "            raise KeyError(f\"Predicted class index {predicted_class} not found in label map.\")\n",
    "\n",
    "        predicted_label = label_map[predicted_class]\n",
    "        return predicted_label, predictions\n",
    "    except KeyError as e:\n",
    "        print(f\"KeyError: {e}\")\n",
    "        return None, None\n",
    "    except Exception as e:\n",
    "        print(f\"Error: {e}\")\n",
    "        return None, None\n",
    "\n",
    "\n",
    "test_image_path = \"{B1FFD70A-8009-41F4-8222-60EFC2A1D510}.png\"\n",
    "\n",
    "predicted_label, probabilities = predict_image(model, test_image_path, label_map)\n",
    "\n",
    "if predicted_label:\n",
    "    print(f\"Predicted Label: {predicted_label}\")\n",
    "\n",
    "else:\n",
    "    print(\"Prediction failed.\")\n",
    "\n"
   ],
   "id": "1569c5a9bc63dbef",
   "outputs": [
    {
     "name": "stdout",
     "output_type": "stream",
     "text": [
      "1/1 [==============================] - 0s 18ms/step\n",
      "Predicted class index: 67\n",
      "Predicted Label: Delphinus\n"
     ]
    }
   ],
   "execution_count": 29
  }
 ],
 "metadata": {
  "kernelspec": {
   "display_name": "Python 3",
   "language": "python",
   "name": "python3"
  },
  "language_info": {
   "codemirror_mode": {
    "name": "ipython",
    "version": 2
   },
   "file_extension": ".py",
   "mimetype": "text/x-python",
   "name": "python",
   "nbconvert_exporter": "python",
   "pygments_lexer": "ipython2",
   "version": "2.7.6"
  }
 },
 "nbformat": 4,
 "nbformat_minor": 5
}
